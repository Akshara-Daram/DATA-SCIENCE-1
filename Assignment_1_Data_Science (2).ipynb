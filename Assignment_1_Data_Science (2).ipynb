{
  "nbformat": 4,
  "nbformat_minor": 0,
  "metadata": {
    "colab": {
      "provenance": []
    },
    "kernelspec": {
      "name": "python3",
      "display_name": "Python 3"
    },
    "language_info": {
      "name": "python"
    }
  },
  "cells": [
    {
      "cell_type": "code",
      "source": [
        "\n",
        "\"\"\"Name: Akshara.D\n",
        "\n",
        "Registration Number: 21BAI1399\n",
        "\n",
        "Email ID: akshara.d2021@vitstudent.ac.in\"\"\"\n",
        "\n",
        "#Drive link: https://colab.research.google.com/drive/1XNC51HT_aV96oKk_sF0uhDoMdWFHlTen?usp=sharing"
      ],
      "metadata": {
        "colab": {
          "base_uri": "https://localhost:8080/",
          "height": 35
        },
        "id": "1re3KqTpCdJH",
        "outputId": "6eb459bf-8370-4f19-89e1-0aaa76b55a21"
      },
      "execution_count": 7,
      "outputs": [
        {
          "output_type": "execute_result",
          "data": {
            "text/plain": [
              "'Name: Akshara.D\\n\\nRegistration Number: 21BAI1399\\n\\nEmail ID: akshara.d2021@vitstudent.ac.in'"
            ],
            "application/vnd.google.colaboratory.intrinsic+json": {
              "type": "string"
            }
          },
          "metadata": {},
          "execution_count": 7
        }
      ]
    },
    {
      "cell_type": "code",
      "source": [
        "#Task 1 - Create a pandas dataframe (Dataframe name as 'df') with numpy random values (4 features and 4 observations)\n",
        "\n",
        "\n",
        "import pandas as pd\n",
        "import numpy as np\n",
        "\n",
        "np.random.seed(10)\n",
        "\n",
        "data = {\n",
        "    'CustomerID': np.random.randint(10000, 99999, 4),\n",
        "    'ProductID': np.random.randint(1000, 9999, 4),\n",
        "    'OrderID': np.random.randint(100000, 999999, 4),\n",
        "    'Quantity': np.random.randint(1, 10, 4),\n",
        "}\n",
        "\n",
        "df = pd.DataFrame(data)\n",
        "\n",
        "print(df)"
      ],
      "metadata": {
        "colab": {
          "base_uri": "https://localhost:8080/"
        },
        "id": "bbwvoEuI9eDV",
        "outputId": "b7765ffd-4aef-4ff4-d147-9b528e2fd35e"
      },
      "execution_count": 8,
      "outputs": [
        {
          "output_type": "stream",
          "name": "stdout",
          "text": [
            "   CustomerID  ProductID  OrderID  Quantity\n",
            "0       93209       5829   940036         2\n",
            "1       60496       2520   280463         9\n",
            "2       19372       7400   675883         5\n",
            "3       20201       6648   922616         2\n"
          ]
        }
      ]
    },
    {
      "cell_type": "code",
      "source": [
        "#Task 2 - Rename the task 1 'df' dataframe column names to 'Random value 1' , 'Random value 2' , 'Random value 3' , 'Random value 4'\n",
        "\n",
        "df.rename(columns={'CustomerID':'Random value 1','ProductID':'Random value 2','OrderID':'Random value 3','Quantity':'Random value 4'},inplace=True)\n",
        "df"
      ],
      "metadata": {
        "colab": {
          "base_uri": "https://localhost:8080/",
          "height": 174
        },
        "id": "_gvoUh-W_X7l",
        "outputId": "2f7369e7-b4b2-46cb-965c-bbab8f2d5867"
      },
      "execution_count": 9,
      "outputs": [
        {
          "output_type": "execute_result",
          "data": {
            "text/plain": [
              "   Random value 1  Random value 2  Random value 3  Random value 4\n",
              "0           93209            5829          940036               2\n",
              "1           60496            2520          280463               9\n",
              "2           19372            7400          675883               5\n",
              "3           20201            6648          922616               2"
            ],
            "text/html": [
              "\n",
              "  <div id=\"df-0bd85452-7023-476d-8aaa-2071d5ee2508\" class=\"colab-df-container\">\n",
              "    <div>\n",
              "<style scoped>\n",
              "    .dataframe tbody tr th:only-of-type {\n",
              "        vertical-align: middle;\n",
              "    }\n",
              "\n",
              "    .dataframe tbody tr th {\n",
              "        vertical-align: top;\n",
              "    }\n",
              "\n",
              "    .dataframe thead th {\n",
              "        text-align: right;\n",
              "    }\n",
              "</style>\n",
              "<table border=\"1\" class=\"dataframe\">\n",
              "  <thead>\n",
              "    <tr style=\"text-align: right;\">\n",
              "      <th></th>\n",
              "      <th>Random value 1</th>\n",
              "      <th>Random value 2</th>\n",
              "      <th>Random value 3</th>\n",
              "      <th>Random value 4</th>\n",
              "    </tr>\n",
              "  </thead>\n",
              "  <tbody>\n",
              "    <tr>\n",
              "      <th>0</th>\n",
              "      <td>93209</td>\n",
              "      <td>5829</td>\n",
              "      <td>940036</td>\n",
              "      <td>2</td>\n",
              "    </tr>\n",
              "    <tr>\n",
              "      <th>1</th>\n",
              "      <td>60496</td>\n",
              "      <td>2520</td>\n",
              "      <td>280463</td>\n",
              "      <td>9</td>\n",
              "    </tr>\n",
              "    <tr>\n",
              "      <th>2</th>\n",
              "      <td>19372</td>\n",
              "      <td>7400</td>\n",
              "      <td>675883</td>\n",
              "      <td>5</td>\n",
              "    </tr>\n",
              "    <tr>\n",
              "      <th>3</th>\n",
              "      <td>20201</td>\n",
              "      <td>6648</td>\n",
              "      <td>922616</td>\n",
              "      <td>2</td>\n",
              "    </tr>\n",
              "  </tbody>\n",
              "</table>\n",
              "</div>\n",
              "    <div class=\"colab-df-buttons\">\n",
              "\n",
              "  <div class=\"colab-df-container\">\n",
              "    <button class=\"colab-df-convert\" onclick=\"convertToInteractive('df-0bd85452-7023-476d-8aaa-2071d5ee2508')\"\n",
              "            title=\"Convert this dataframe to an interactive table.\"\n",
              "            style=\"display:none;\">\n",
              "\n",
              "  <svg xmlns=\"http://www.w3.org/2000/svg\" height=\"24px\" viewBox=\"0 -960 960 960\">\n",
              "    <path d=\"M120-120v-720h720v720H120Zm60-500h600v-160H180v160Zm220 220h160v-160H400v160Zm0 220h160v-160H400v160ZM180-400h160v-160H180v160Zm440 0h160v-160H620v160ZM180-180h160v-160H180v160Zm440 0h160v-160H620v160Z\"/>\n",
              "  </svg>\n",
              "    </button>\n",
              "\n",
              "  <style>\n",
              "    .colab-df-container {\n",
              "      display:flex;\n",
              "      gap: 12px;\n",
              "    }\n",
              "\n",
              "    .colab-df-convert {\n",
              "      background-color: #E8F0FE;\n",
              "      border: none;\n",
              "      border-radius: 50%;\n",
              "      cursor: pointer;\n",
              "      display: none;\n",
              "      fill: #1967D2;\n",
              "      height: 32px;\n",
              "      padding: 0 0 0 0;\n",
              "      width: 32px;\n",
              "    }\n",
              "\n",
              "    .colab-df-convert:hover {\n",
              "      background-color: #E2EBFA;\n",
              "      box-shadow: 0px 1px 2px rgba(60, 64, 67, 0.3), 0px 1px 3px 1px rgba(60, 64, 67, 0.15);\n",
              "      fill: #174EA6;\n",
              "    }\n",
              "\n",
              "    .colab-df-buttons div {\n",
              "      margin-bottom: 4px;\n",
              "    }\n",
              "\n",
              "    [theme=dark] .colab-df-convert {\n",
              "      background-color: #3B4455;\n",
              "      fill: #D2E3FC;\n",
              "    }\n",
              "\n",
              "    [theme=dark] .colab-df-convert:hover {\n",
              "      background-color: #434B5C;\n",
              "      box-shadow: 0px 1px 3px 1px rgba(0, 0, 0, 0.15);\n",
              "      filter: drop-shadow(0px 1px 2px rgba(0, 0, 0, 0.3));\n",
              "      fill: #FFFFFF;\n",
              "    }\n",
              "  </style>\n",
              "\n",
              "    <script>\n",
              "      const buttonEl =\n",
              "        document.querySelector('#df-0bd85452-7023-476d-8aaa-2071d5ee2508 button.colab-df-convert');\n",
              "      buttonEl.style.display =\n",
              "        google.colab.kernel.accessAllowed ? 'block' : 'none';\n",
              "\n",
              "      async function convertToInteractive(key) {\n",
              "        const element = document.querySelector('#df-0bd85452-7023-476d-8aaa-2071d5ee2508');\n",
              "        const dataTable =\n",
              "          await google.colab.kernel.invokeFunction('convertToInteractive',\n",
              "                                                    [key], {});\n",
              "        if (!dataTable) return;\n",
              "\n",
              "        const docLinkHtml = 'Like what you see? Visit the ' +\n",
              "          '<a target=\"_blank\" href=https://colab.research.google.com/notebooks/data_table.ipynb>data table notebook</a>'\n",
              "          + ' to learn more about interactive tables.';\n",
              "        element.innerHTML = '';\n",
              "        dataTable['output_type'] = 'display_data';\n",
              "        await google.colab.output.renderOutput(dataTable, element);\n",
              "        const docLink = document.createElement('div');\n",
              "        docLink.innerHTML = docLinkHtml;\n",
              "        element.appendChild(docLink);\n",
              "      }\n",
              "    </script>\n",
              "  </div>\n",
              "\n",
              "    </div>\n",
              "  </div>\n"
            ]
          },
          "metadata": {},
          "execution_count": 9
        }
      ]
    },
    {
      "cell_type": "code",
      "source": [
        "# Task 3 - Find the descriptive statistics of the 'df' dataframe\n",
        "\n",
        "statistics = df.describe()\n",
        "print(statistics)"
      ],
      "metadata": {
        "id": "4K1hoh0e_TKa",
        "colab": {
          "base_uri": "https://localhost:8080/"
        },
        "outputId": "78300a74-0d89-4e05-aa3d-5881dfd78267"
      },
      "execution_count": 10,
      "outputs": [
        {
          "output_type": "stream",
          "name": "stdout",
          "text": [
            "       Random value 1  Random value 2  Random value 3  Random value 4\n",
            "count        4.000000         4.00000        4.000000        4.000000\n",
            "mean     48319.500000      5599.25000   704749.500000        4.500000\n",
            "std      35552.506527      2150.74737   307504.936442        3.316625\n",
            "min      19372.000000      2520.00000   280463.000000        2.000000\n",
            "25%      19993.750000      5001.75000   577028.000000        2.000000\n",
            "50%      40348.500000      6238.50000   799249.500000        3.500000\n",
            "75%      68674.250000      6836.00000   926971.000000        6.000000\n",
            "max      93209.000000      7400.00000   940036.000000        9.000000\n"
          ]
        }
      ]
    },
    {
      "cell_type": "code",
      "source": [
        "#Task 4 - Check for the null values in 'df' and find the data type of the columns\n",
        "\n",
        "null_values = df.isnull().sum()\n",
        "print(null_values)\n",
        "\n",
        "null_values = df.isnull().any()\n",
        "print(null_values)\n",
        "\n",
        "#Data types of the columns\n",
        "data_types = df.dtypes\n",
        "print(\"\\nData Types:\")\n",
        "print(data_types)"
      ],
      "metadata": {
        "colab": {
          "base_uri": "https://localhost:8080/"
        },
        "id": "5Zx7Of4TANCx",
        "outputId": "014a319e-91a2-494e-d9e4-7ac9eec290f4"
      },
      "execution_count": 11,
      "outputs": [
        {
          "output_type": "stream",
          "name": "stdout",
          "text": [
            "Random value 1    0\n",
            "Random value 2    0\n",
            "Random value 3    0\n",
            "Random value 4    0\n",
            "dtype: int64\n",
            "Random value 1    False\n",
            "Random value 2    False\n",
            "Random value 3    False\n",
            "Random value 4    False\n",
            "dtype: bool\n",
            "\n",
            "Data Types:\n",
            "Random value 1    int64\n",
            "Random value 2    int64\n",
            "Random value 3    int64\n",
            "Random value 4    int64\n",
            "dtype: object\n"
          ]
        }
      ]
    },
    {
      "cell_type": "markdown",
      "source": [],
      "metadata": {
        "id": "4nkpkncg98LL"
      }
    },
    {
      "cell_type": "code",
      "source": [
        "#Task 5 - Display the 'Random value 2' and 'Random value 3' columns with location method and index location method\n",
        "\n",
        "# Location method\n",
        "columns_loc = df.loc[:, ['Random value 2', 'Random value 3']]\n",
        "print(\"Columns using .loc[]:\")\n",
        "print(columns_loc)\n",
        "\n",
        "# Index location method\n",
        "columns_iloc = df.iloc[:, [1, 2]]\n",
        "print(\"\\nColumns using .iloc[]:\")\n",
        "print(columns_iloc)"
      ],
      "metadata": {
        "colab": {
          "base_uri": "https://localhost:8080/"
        },
        "id": "45YkaBuoBGy7",
        "outputId": "df14e75e-42c9-4a36-b87d-bb9ca56b6276"
      },
      "execution_count": 12,
      "outputs": [
        {
          "output_type": "stream",
          "name": "stdout",
          "text": [
            "Columns using .loc[]:\n",
            "   Random value 2  Random value 3\n",
            "0            5829          940036\n",
            "1            2520          280463\n",
            "2            7400          675883\n",
            "3            6648          922616\n",
            "\n",
            "Columns using .iloc[]:\n",
            "   Random value 2  Random value 3\n",
            "0            5829          940036\n",
            "1            2520          280463\n",
            "2            7400          675883\n",
            "3            6648          922616\n"
          ]
        }
      ]
    }
  ]
}